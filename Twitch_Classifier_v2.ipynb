{
  "cells": [
    {
      "cell_type": "markdown",
      "metadata": {
        "id": "view-in-github",
        "colab_type": "text"
      },
      "source": [
        "<a href=\"https://colab.research.google.com/github/gltmkm506/alex.us/blob/main/Twitch_Classifier_v2.ipynb\" target=\"_parent\"><img src=\"https://colab.research.google.com/assets/colab-badge.svg\" alt=\"Open In Colab\"/></a>"
      ]
    },
    {
      "cell_type": "markdown",
      "metadata": {
        "id": "JZFoTZ9Rd4bP"
      },
      "source": [
        "<a href=\"https://colab.research.google.com/github/dbamman/nlp22/blob/master/HW2/HW2.ipynb\" target=\"_parent\"><img src=\"https://colab.research.google.com/assets/colab-badge.svg\" alt=\"Open In Colab\"/></a>"
      ]
    },
    {
      "cell_type": "code",
      "execution_count": null,
      "metadata": {
        "id": "TQTT9x-6d2JI",
        "colab": {
          "base_uri": "https://localhost:8080/"
        },
        "outputId": "64edf4e4-b1f9-4594-8e1e-969f9032c04f"
      },
      "outputs": [
        {
          "output_type": "stream",
          "name": "stdout",
          "text": [
            "[nltk_data] Downloading package wordnet to /root/nltk_data...\n",
            "[nltk_data]   Package wordnet is already up-to-date!\n",
            "Drive already mounted at /content/drive; to attempt to forcibly remount, call drive.mount(\"/content/drive\", force_remount=True).\n"
          ]
        }
      ],
      "source": [
        "import sys, argparse\n",
        "from scipy import sparse\n",
        "from scipy.stats import norm\n",
        "from sklearn import linear_model\n",
        "from imblearn.over_sampling import SMOTE\n",
        "from collections import Counter\n",
        "import numpy as np\n",
        "import re\n",
        "from collections import Counter, defaultdict\n",
        "import operator\n",
        "import nltk\n",
        "from nltk.corpus import wordnet as wn\n",
        "nltk.download('wordnet')\n",
        "import csv\n",
        "from sklearn.metrics import plot_confusion_matrix\n",
        "import matplotlib.pyplot as plt\n",
        "import pandas as pd\n",
        "from pandas import option_context\n",
        "import math\n",
        "import requests\n",
        "from google.colab import drive\n",
        "drive.mount('/content/drive')\n"
      ]
    },
    {
      "cell_type": "code",
      "execution_count": null,
      "metadata": {
        "id": "e4KuVSCSqlUX",
        "colab": {
          "base_uri": "https://localhost:8080/"
        },
        "outputId": "949ace2a-ff47-4a2b-a4cc-c17b8409a07f"
      },
      "outputs": [
        {
          "output_type": "stream",
          "name": "stdout",
          "text": [
            "/usr/lib/python3.7/runpy.py:125: RuntimeWarning: 'nltk.downloader' found in sys.modules after import of package 'nltk', but prior to execution of 'nltk.downloader'; this may result in unpredictable behaviour\n",
            "  warn(RuntimeWarning(msg))\n",
            "[nltk_data] Downloading package punkt to /root/nltk_data...\n",
            "[nltk_data]   Unzipping tokenizers/punkt.zip.\n"
          ]
        }
      ],
      "source": [
        "!python -m nltk.downloader punkt"
      ]
    },
    {
      "cell_type": "code",
      "source": [
        "#import Orthrus Lexicon's Toxic Dictionary\n",
        "toxic_url = \"https://raw.githubusercontent.com/Orthrus-Lexicon/Toxic/main/Toxic%20words%20dictionary.txt\"\n",
        "toxic_dict = requests.get(toxic_url).text.split()"
      ],
      "metadata": {
        "id": "mjJRQXcYzRgI"
      },
      "execution_count": null,
      "outputs": []
    },
    {
      "cell_type": "code",
      "source": [
        "print(type(toxic_dict), toxic_dict[:10])"
      ],
      "metadata": {
        "colab": {
          "base_uri": "https://localhost:8080/"
        },
        "id": "g4oVJhQD1Ocs",
        "outputId": "8912db02-b75a-44aa-fb30-1bca95f09169"
      },
      "execution_count": null,
      "outputs": [
        {
          "output_type": "stream",
          "name": "stdout",
          "text": [
            "<class 'list'> ['***', '*itches', '4r5e', '5h1t', '5hit', 'God', 'God', 'damn', 'Goddamn', 'a**']\n"
          ]
        }
      ]
    },
    {
      "cell_type": "code",
      "execution_count": null,
      "metadata": {
        "id": "jq2yq0xpRCUb"
      },
      "outputs": [],
      "source": [
        "trainingFile = \"/content/drive/MyDrive/ap_data/ap_data/37/train.txt\"\n",
        "evaluationFile = \"/content/drive/MyDrive/ap_data/ap_data/37/dev.txt\"\n",
        "testFile = \"/content/drive/MyDrive/ap_data/ap_data/37/test.txt\""
      ]
    },
    {
      "cell_type": "code",
      "execution_count": null,
      "metadata": {
        "id": "CGiM8qQiJOBU"
      },
      "outputs": [],
      "source": [
        "class Classifier:\n",
        "\n",
        "    def __init__(self, feature_method, L2_regularization_strength=1.0, min_feature_count=1):\n",
        "        self.feature_vocab = {}\n",
        "        self.feature_method = feature_method\n",
        "        self.log_reg = None\n",
        "        self.L2_regularization_strength=L2_regularization_strength\n",
        "        self.min_feature_count=min_feature_count\n",
        "\n",
        "        self.trainX, self.trainY, self.trainOrig = self.process(trainingFile, training=True)\n",
        "        self.devX, self.devY, self.devOrig = self.process(evaluationFile, training=False)\n",
        "        self.testX, _, self.testOrig = self.process(testFile, training=False)\n",
        "\n",
        "    # Read data from file\n",
        "    def load_data(self, filename):\n",
        "        data = []\n",
        "        with open(filename, encoding=\"utf8\") as file:\n",
        "            for line in file:\n",
        "                cols = line.split(\"\\t\")\n",
        "                idd = cols[0]\n",
        "                label = cols[1]\n",
        "                text = cols[2]\n",
        "\n",
        "                data.append((idd, label, text))\n",
        "                \n",
        "        return data\n",
        "\n",
        "    # Featurize entire dataset\n",
        "    def featurize(self, data):\n",
        "        featurized_data = []\n",
        "        for idd, label, text in data:\n",
        "            feats = self.feature_method(text)\n",
        "            featurized_data.append((label, feats))\n",
        "        return featurized_data\n",
        "\n",
        "    # Read dataset and returned featurized representation as sparse matrix + label array\n",
        "    def process(self, dataFile, training = False):\n",
        "        original_data = self.load_data(dataFile)\n",
        "        data = self.featurize(original_data)\n",
        "\n",
        "        if training:\n",
        "            fid = 0\n",
        "            feature_doc_count = Counter()\n",
        "            for label, feats in data:\n",
        "                for feat in feats:\n",
        "                    feature_doc_count[feat]+= 1\n",
        "\n",
        "            for feat in feature_doc_count:\n",
        "                if feature_doc_count[feat] >= self.min_feature_count:\n",
        "                    self.feature_vocab[feat] = fid\n",
        "                    fid += 1\n",
        "\n",
        "        F = len(self.feature_vocab)\n",
        "        D = len(data)\n",
        "        X = sparse.dok_matrix((D, F))\n",
        "        Y = [None]*D\n",
        "        for idx, (label, feats) in enumerate(data):\n",
        "            for feat in feats:\n",
        "                if feat in self.feature_vocab:\n",
        "                    X[idx, self.feature_vocab[feat]] = feats[feat]\n",
        "            Y[idx] = label\n",
        "        if training:\n",
        "          X, Y = SMOTE().fit_resample(X, Y)\n",
        "\n",
        "        return X, Y, original_data\n",
        "\n",
        "    def load_test(self, dataFile):\n",
        "        data = self.load_data(dataFile)\n",
        "        data = self.featurize(data)\n",
        "\n",
        "        F = len(self.feature_vocab)\n",
        "        D = len(data)\n",
        "        X = sparse.dok_matrix((D, F))\n",
        "        Y = [None]*D\n",
        "        for idx, (data_id, feats) in enumerate(data):\n",
        "            for feat in feats:\n",
        "                if feat in self.feature_vocab:\n",
        "                    X[idx, self.feature_vocab[feat]] = feats[feat]\n",
        "            Y[idx] = data_id\n",
        "\n",
        "        return X, Y\n",
        "\n",
        "    # Train model and evaluate on held-out data\n",
        "    def evaluate(self):\n",
        "        (D,F) = self.trainX.shape\n",
        "        self.log_reg = linear_model.LogisticRegression(C = self.L2_regularization_strength, max_iter=1000)\n",
        "        self.log_reg.fit(self.trainX, self.trainY)\n",
        "        training_accuracy = self.log_reg.score(self.trainX, self.trainY)\n",
        "        development_accuracy = self.log_reg.score(self.devX, self.devY)\n",
        "        print(\"Method: %s, Features: %s, Train accuracy: %.3f, Dev accuracy: %.3f\" % (self.feature_method.__name__, F, training_accuracy, development_accuracy))\n",
        "\n",
        "\n",
        "    # Predict labels for new data\n",
        "    def predict(self):\n",
        "        predX = self.log_reg.predict(self.testX)\n",
        "\n",
        "        with open(\"%s_%s\" % (self.feature_method.__name__, \"predictions.csv\"), \"w\", encoding=\"utf8\") as out:\n",
        "            writer=csv.writer(out)\n",
        "            writer.writerow([\"Id\", \"Expected\"])\n",
        "            for idx, data_id in enumerate(self.testX):\n",
        "                writer.writerow([self.testOrig[idx][0], predX[idx]])\n",
        "        out.close()\n",
        "\n",
        "\n",
        "    def printWeights(self, n=10):\n",
        "\n",
        "        reverse_vocab=[None]*len(self.log_reg.coef_[0])\n",
        "        for k in self.feature_vocab:\n",
        "            reverse_vocab[self.feature_vocab[k]]=k\n",
        "\n",
        "        # binary\n",
        "        if len(self.log_reg.classes_) == 2:\n",
        "              weights=self.log_reg.coef_[0]\n",
        "\n",
        "              cat=self.log_reg.classes_[1]\n",
        "              for feature, weight in list(reversed(sorted(zip(reverse_vocab, weights), key = operator.itemgetter(1))))[:n]:\n",
        "                  print(\"%s\\t%.3f\\t%s\" % (cat, weight, feature))\n",
        "              print()\n",
        "\n",
        "              cat=self.log_reg.classes_[0]\n",
        "              for feature, weight in list(sorted(zip(reverse_vocab, weights), key = operator.itemgetter(1)))[:n]:\n",
        "                  print(\"%s\\t%.3f\\t%s\" % (cat, weight, feature))\n",
        "              print()\n",
        "\n",
        "        # multiclass\n",
        "        else:\n",
        "          for i, cat in enumerate(self.log_reg.classes_):\n",
        "\n",
        "              weights=self.log_reg.coef_[i]\n",
        "\n",
        "              for feature, weight in list(reversed(sorted(zip(reverse_vocab, weights), key = operator.itemgetter(1))))[:n]:\n",
        "                  print(\"%s\\t%.3f\\t%s\" % (cat, weight, feature))\n",
        "              print()\n",
        "\n",
        "            "
      ]
    },
    {
      "cell_type": "code",
      "execution_count": null,
      "metadata": {
        "id": "xCq1bL3e2jUj"
      },
      "outputs": [],
      "source": [
        "def orthrus_feat(text):\n",
        "    feats = {}\n",
        "    words = nltk.word_tokenize(text)\n",
        "\n",
        "    for word in words:\n",
        "        word=word.lower()\n",
        "        if word in toxic_dict:\n",
        "            feats[\"contains_toxic_word\"] = 1\n",
        "            \n",
        "    return feats\n"
      ]
    },
    {
      "cell_type": "code",
      "execution_count": null,
      "metadata": {
        "id": "Jnqjxd6fKPiP",
        "colab": {
          "base_uri": "https://localhost:8080/"
        },
        "outputId": "d4310e8c-96f1-490a-d64c-f532fee2f72c"
      },
      "outputs": [
        {
          "output_type": "stream",
          "name": "stdout",
          "text": [
            "Method: orthrus_feat, Features: 1, Train accuracy: 0.435, Dev accuracy: 0.830\n"
          ]
        }
      ],
      "source": [
        "simple_classifier = Classifier(orthrus_feat, L2_regularization_strength=1.0, min_feature_count=1)\n",
        "simple_classifier.evaluate()"
      ]
    },
    {
      "cell_type": "code",
      "source": [
        "def wn_feat(text):\n",
        "    feats = {}\n",
        "    words = nltk.word_tokenize(text)\n",
        "\n",
        "    for word in words:\n",
        "        word=word.lower()\n",
        "        for sn in wn.synsets(word):\n",
        "          feats[sn] = 1\n",
        "            \n",
        "    return feats"
      ],
      "metadata": {
        "id": "2VGRMZj8QOc2"
      },
      "execution_count": null,
      "outputs": []
    },
    {
      "cell_type": "code",
      "source": [
        "classifierwn = Classifier(wn_feat, L2_regularization_strength=1.0, min_feature_count=1)\n",
        "classifierwn.evaluate()"
      ],
      "metadata": {
        "id": "32102Qsj1AC2",
        "colab": {
          "base_uri": "https://localhost:8080/"
        },
        "outputId": "f7a35422-c029-4fbe-e0e0-15301ebce1fc"
      },
      "execution_count": null,
      "outputs": [
        {
          "output_type": "stream",
          "name": "stdout",
          "text": [
            "Method: wn_feat, Features: 5095, Train accuracy: 0.940, Dev accuracy: 0.830\n"
          ]
        }
      ]
    },
    {
      "cell_type": "code",
      "execution_count": null,
      "metadata": {
        "id": "LNlQyjEB4Bwt"
      },
      "outputs": [],
      "source": [
        "def bigram_feat(text):\n",
        "    # Here the `feats` dict should contain the features -- the key should be the feature name, \n",
        "    # and the value is the feature value.  See `simple_featurize` for an example.\n",
        "    \n",
        "    feats = {}\n",
        "\n",
        "    bigrams = nltk.bigrams(text)\n",
        "    for bigram in bigrams:\n",
        "        feats[bigram] = 1\n",
        "    \n",
        "            \n",
        "    return feats"
      ]
    },
    {
      "cell_type": "code",
      "source": [
        "def bigram_feat2(text):\n",
        "    # Here the `feats` dict should contain the features -- the key should be the feature name, \n",
        "    # and the value is the feature value.  See `simple_featurize` for an example.\n",
        "    \n",
        "    feats = {}\n",
        "    words = nltk.word_tokenize(text)\n",
        "\n",
        "    for i in range(0, len(words) - 1):\n",
        "      feats[words[i] + \" \" + words[i+1]] = 1\n",
        "               \n",
        "    return feats"
      ],
      "metadata": {
        "id": "ll40Lop3uphk"
      },
      "execution_count": null,
      "outputs": []
    },
    {
      "cell_type": "code",
      "execution_count": null,
      "metadata": {
        "id": "JgpuykF67oWZ",
        "colab": {
          "base_uri": "https://localhost:8080/"
        },
        "outputId": "a0633a68-f613-40f8-8f80-d0631fcef80b"
      },
      "outputs": [
        {
          "output_type": "stream",
          "name": "stdout",
          "text": [
            "Method: bigram_feat, Features: 1537, Train accuracy: 0.999, Dev accuracy: 0.835\n"
          ]
        }
      ],
      "source": [
        "classifier2 = Classifier(bigram_feat, L2_regularization_strength=1.0, min_feature_count=1)\n",
        "classifier2.evaluate()"
      ]
    },
    {
      "cell_type": "code",
      "execution_count": null,
      "metadata": {
        "id": "FmJKucgn4CEg"
      },
      "outputs": [],
      "source": [
        "def stem_feat(text):\n",
        "    \n",
        "    feats = {}\n",
        "    words = nltk.word_tokenize(text)\n",
        "    ps = nltk.stem.PorterStemmer()\n",
        "    for word in words:\n",
        "      stem = ps.stem(word)\n",
        "      feats[stem]=1\n",
        "\n",
        "    \n",
        "            \n",
        "    return feats"
      ]
    },
    {
      "cell_type": "code",
      "execution_count": null,
      "metadata": {
        "id": "g_f--utb7q4l",
        "colab": {
          "base_uri": "https://localhost:8080/"
        },
        "outputId": "56b0313e-98d8-4148-bfaa-06be591c125b"
      },
      "outputs": [
        {
          "output_type": "stream",
          "name": "stdout",
          "text": [
            "Method: stem_feat, Features: 1279, Train accuracy: 0.999, Dev accuracy: 0.875\n"
          ]
        }
      ],
      "source": [
        "classifier3 = Classifier(stem_feat, L2_regularization_strength=1.0, min_feature_count=1)\n",
        "classifier3.evaluate()"
      ]
    },
    {
      "cell_type": "code",
      "source": [
        "def bag_of_words(text):\n",
        "    # Here the `feats` dict should contain the features -- the key should be the feature name, \n",
        "    # and the value is the feature value.  See `simple_featurize` for an example.\n",
        "    \n",
        "    feats = {}\n",
        "    words = nltk.word_tokenize(text)\n",
        "    for word in words:\n",
        "      feats[word] = 1\n",
        "\n",
        "    return feats"
      ],
      "metadata": {
        "id": "4aLhXeMpyDdp"
      },
      "execution_count": null,
      "outputs": []
    },
    {
      "cell_type": "code",
      "source": [
        "bow_classifier = Classifier(bag_of_words, L2_regularization_strength=0.75, min_feature_count=1)\n",
        "bow_classifier.evaluate()"
      ],
      "metadata": {
        "colab": {
          "base_uri": "https://localhost:8080/"
        },
        "id": "fj_aaQYYyEoJ",
        "outputId": "ce0cf1f4-47c8-4eb4-d4bc-4cc89fcbd6c0"
      },
      "execution_count": null,
      "outputs": [
        {
          "output_type": "stream",
          "name": "stdout",
          "text": [
            "Method: bag_of_words, Features: 1447, Train accuracy: 1.000, Dev accuracy: 0.885\n"
          ]
        }
      ]
    },
    {
      "cell_type": "markdown",
      "metadata": {
        "id": "XEpK5LyMgv5c"
      },
      "source": [
        "Next, let's combine any or all the features we have developed into one big model and make predictions on the test data."
      ]
    },
    {
      "cell_type": "code",
      "execution_count": null,
      "metadata": {
        "id": "jxKmEqI5JY71"
      },
      "outputs": [],
      "source": [
        "def combiner_function(text):\n",
        "\n",
        "    # Here the `all_feats` dict should contain the features -- the key should be the feature name, \n",
        "    # and the value is the feature value.  See `simple_featurize` for an example.\n",
        "    \n",
        "  all_feats={}\n",
        "  for feature in [orthrus_feat, wn_feat, bigram_feat2, stem_feat]:\n",
        "    all_feats.update(feature(text))\n",
        "  return all_feats"
      ]
    },
    {
      "cell_type": "code",
      "execution_count": null,
      "metadata": {
        "id": "D-tRUFTIdAqT",
        "colab": {
          "base_uri": "https://localhost:8080/"
        },
        "outputId": "670cf951-58f5-4eee-da71-6a5659e6eecf"
      },
      "outputs": [
        {
          "output_type": "stream",
          "name": "stdout",
          "text": [
            "0.0\n"
          ]
        },
        {
          "output_type": "stream",
          "name": "stderr",
          "text": [
            "/usr/local/lib/python3.7/dist-packages/sklearn/linear_model/_logistic.py:811: RuntimeWarning: divide by zero encountered in double_scalars\n",
            "  args=(X, target, 1.0 / C, sample_weight),\n",
            "/usr/local/lib/python3.7/dist-packages/sklearn/linear_model/_logistic.py:301: RuntimeWarning: invalid value encountered in double_scalars\n",
            "  loss += 0.5 * alpha * squared_norm(w)\n",
            "/usr/local/lib/python3.7/dist-packages/sklearn/linear_model/_logistic.py:352: RuntimeWarning: invalid value encountered in multiply\n",
            "  grad[:, :n_features] += alpha * w\n",
            "/usr/local/lib/python3.7/dist-packages/sklearn/linear_model/_logistic.py:818: ConvergenceWarning: lbfgs failed to converge (status=2):\n",
            "ABNORMAL_TERMINATION_IN_LNSRCH.\n",
            "\n",
            "Increase the number of iterations (max_iter) or scale the data as shown in:\n",
            "    https://scikit-learn.org/stable/modules/preprocessing.html\n",
            "Please also refer to the documentation for alternative solver options:\n",
            "    https://scikit-learn.org/stable/modules/linear_model.html#logistic-regression\n",
            "  extra_warning_msg=_LOGISTIC_SOLVER_CONVERGENCE_MSG,\n"
          ]
        },
        {
          "output_type": "stream",
          "name": "stdout",
          "text": [
            "Method: combiner_function, Features: 8643, Train accuracy: 0.333, Dev accuracy: 0.915\n",
            "0.01\n",
            "Method: combiner_function, Features: 8643, Train accuracy: 0.945, Dev accuracy: 0.870\n",
            "0.02\n",
            "Method: combiner_function, Features: 8643, Train accuracy: 0.978, Dev accuracy: 0.875\n",
            "0.03\n",
            "Method: combiner_function, Features: 8643, Train accuracy: 0.986, Dev accuracy: 0.880\n",
            "0.04\n",
            "Method: combiner_function, Features: 8643, Train accuracy: 0.993, Dev accuracy: 0.880\n",
            "0.05\n",
            "Method: combiner_function, Features: 8643, Train accuracy: 0.995, Dev accuracy: 0.885\n",
            "0.06\n",
            "Method: combiner_function, Features: 8643, Train accuracy: 0.995, Dev accuracy: 0.890\n",
            "0.07\n",
            "Method: combiner_function, Features: 8643, Train accuracy: 0.997, Dev accuracy: 0.890\n",
            "0.08\n",
            "Method: combiner_function, Features: 8643, Train accuracy: 0.997, Dev accuracy: 0.895\n",
            "0.09\n",
            "Method: combiner_function, Features: 8643, Train accuracy: 0.997, Dev accuracy: 0.895\n",
            "0.1\n",
            "Method: combiner_function, Features: 8643, Train accuracy: 0.997, Dev accuracy: 0.905\n",
            "0.11\n",
            "Method: combiner_function, Features: 8643, Train accuracy: 0.997, Dev accuracy: 0.900\n",
            "0.12\n",
            "Method: combiner_function, Features: 8643, Train accuracy: 0.997, Dev accuracy: 0.895\n",
            "0.13\n",
            "Method: combiner_function, Features: 8643, Train accuracy: 0.997, Dev accuracy: 0.905\n",
            "0.14\n",
            "Method: combiner_function, Features: 8643, Train accuracy: 0.998, Dev accuracy: 0.895\n",
            "0.15\n",
            "Method: combiner_function, Features: 8643, Train accuracy: 0.998, Dev accuracy: 0.900\n",
            "0.16\n",
            "Method: combiner_function, Features: 8643, Train accuracy: 0.999, Dev accuracy: 0.890\n",
            "0.17\n",
            "Method: combiner_function, Features: 8643, Train accuracy: 0.999, Dev accuracy: 0.895\n",
            "0.18\n",
            "Method: combiner_function, Features: 8643, Train accuracy: 0.998, Dev accuracy: 0.895\n",
            "0.19\n",
            "Method: combiner_function, Features: 8643, Train accuracy: 0.999, Dev accuracy: 0.895\n",
            "0.2\n",
            "Method: combiner_function, Features: 8643, Train accuracy: 0.999, Dev accuracy: 0.900\n",
            "0.21\n",
            "Method: combiner_function, Features: 8643, Train accuracy: 0.999, Dev accuracy: 0.890\n",
            "0.22\n",
            "Method: combiner_function, Features: 8643, Train accuracy: 0.999, Dev accuracy: 0.895\n",
            "0.23\n",
            "Method: combiner_function, Features: 8643, Train accuracy: 0.999, Dev accuracy: 0.890\n",
            "0.24\n",
            "Method: combiner_function, Features: 8643, Train accuracy: 0.999, Dev accuracy: 0.895\n",
            "0.25\n",
            "Method: combiner_function, Features: 8643, Train accuracy: 0.999, Dev accuracy: 0.895\n",
            "0.26\n",
            "Method: combiner_function, Features: 8643, Train accuracy: 0.999, Dev accuracy: 0.895\n",
            "0.27\n",
            "Method: combiner_function, Features: 8643, Train accuracy: 0.999, Dev accuracy: 0.900\n",
            "0.28\n",
            "Method: combiner_function, Features: 8643, Train accuracy: 0.999, Dev accuracy: 0.890\n",
            "0.29\n",
            "Method: combiner_function, Features: 8643, Train accuracy: 0.999, Dev accuracy: 0.890\n"
          ]
        }
      ],
      "source": [
        "# testing l2 regularization strength value to find value with best dev accuracy; found to be 0.0\n",
        "for i in np.arange(0,0.3,0.01):\n",
        "  big_classifier = Classifier(combiner_function, L2_regularization_strength=i, min_feature_count=1)\n",
        "  print(i)\n",
        "  big_classifier.evaluate()"
      ]
    },
    {
      "cell_type": "code",
      "source": [
        "# using 0.0 as L2_regularization_strength weight throwing error\n",
        "big_classifier = Classifier(combiner_function, L2_regularization_strength=1.0, min_feature_count=1)  \n",
        "big_classifier.evaluate()\n",
        "big_classifier.predict()"
      ],
      "metadata": {
        "colab": {
          "base_uri": "https://localhost:8080/"
        },
        "id": "AP9tOJ6H3bHT",
        "outputId": "bc83831b-a89c-44ba-f36c-d4a47f820743"
      },
      "execution_count": null,
      "outputs": [
        {
          "output_type": "stream",
          "name": "stdout",
          "text": [
            "Method: combiner_function, Features: 8643, Train accuracy: 0.999, Dev accuracy: 0.890\n"
          ]
        }
      ]
    },
    {
      "cell_type": "code",
      "source": [
        "def confidence_intervals(accuracy, n, significance_level):\n",
        "    critical_value=(1-significance_level)/2\n",
        "    z_alpha=-1*norm.ppf(critical_value)\n",
        "    se=math.sqrt((accuracy*(1-accuracy))/n)\n",
        "    return accuracy-(se*z_alpha), accuracy+(se*z_alpha)"
      ],
      "metadata": {
        "id": "Ofz_NIFouH7S"
      },
      "execution_count": null,
      "outputs": []
    },
    {
      "cell_type": "code",
      "source": [
        "lower, upper=confidence_intervals(0.915, 200, .95)\n",
        "print(\"Test accuracy for best dev model: %.3f, 95%% CIs: [%.3f %.3f]\\n\" % (0.915, lower, upper))"
      ],
      "metadata": {
        "colab": {
          "base_uri": "https://localhost:8080/"
        },
        "id": "SWKcmA9GuJ8B",
        "outputId": "47f3cda7-c41e-413c-a698-d0f131adf02f"
      },
      "execution_count": null,
      "outputs": [
        {
          "output_type": "stream",
          "name": "stdout",
          "text": [
            "Test accuracy for best dev model: 0.915, 95% CIs: [0.876 0.954]\n",
            "\n"
          ]
        }
      ]
    },
    {
      "cell_type": "markdown",
      "metadata": {
        "id": "Dg2J1BLgatMP"
      },
      "source": [
        " ## Analysis"
      ]
    },
    {
      "cell_type": "markdown",
      "source": [
        "One of the biggest challenges with our attempt to classify toxic twitch chat messages is the large class inbalance. With roughly 92% of the messages in the dataset being \"not toxic\" and only 1000 messages in total, the scarcity of \"toxic\" and \"unclear\" messages make it very hard for our classifier to learn what makes a message \"toxic\" or \"unclear\". Additionally, taking into account the wide range of ways that a message could be toxic, there were likely many new forms of toxicity that were unseen during training. For example, one form of toxicity would be messages that include threats to harm a person or group of people. When annotating, we saw very few examples of messages that fell into this category and thus our classifier likely struggled to identify these forms of toxicity. Despite our classifier falling short of being able to accurately label toxic messages (final dev accuracy was equal to both the majority class and BOW classifiers), let us dig deeper into what was our classifier was able and not able to decipher regarding toxic messages."
      ],
      "metadata": {
        "id": "TjO_DW7q5y2t"
      }
    },
    {
      "cell_type": "markdown",
      "source": [
        "Looking at the confusion matrix below for our final classifier, we can see that our classifier is not doing great at indentifying \"toxic\" and \"unclear\" messages. Out of the 9 toxic messages in the dev set, our classifier was only able to correctly label 3 of the messages as toxic. The performance was even worse for \"unclear\" messages, with our classifier correctly identifying 0 out of 8. Again this is likely highly attributed to the class inbalance, which we can also see through the confusion matrix as 183 out of the 200 messages in the dev set had a true label of \"not toxic\"."
      ],
      "metadata": {
        "id": "R9Ct4I02CzI3"
      }
    },
    {
      "cell_type": "code",
      "execution_count": null,
      "metadata": {
        "id": "7ulxd1TosIMV",
        "colab": {
          "base_uri": "https://localhost:8080/",
          "height": 635
        },
        "outputId": "cf40d108-5311-4664-ae86-5f28f6a9d7fa"
      },
      "outputs": [
        {
          "output_type": "stream",
          "name": "stderr",
          "text": [
            "/usr/local/lib/python3.7/dist-packages/sklearn/utils/deprecation.py:87: FutureWarning: Function plot_confusion_matrix is deprecated; Function `plot_confusion_matrix` is deprecated in 1.0 and will be removed in 1.2. Use one of the class methods: ConfusionMatrixDisplay.from_predictions or ConfusionMatrixDisplay.from_estimator.\n",
            "  warnings.warn(msg, category=FutureWarning)\n"
          ]
        },
        {
          "output_type": "display_data",
          "data": {
            "text/plain": [
              "<Figure size 720x720 with 2 Axes>"
            ],
            "image/png": "[encoded data removed]"
          },
          "metadata": {
            "needs_background": "light"
          }
        }
      ],
      "source": [
        "def print_confusion(classifier):\n",
        "    fig, ax = plt.subplots(figsize=(10,10))\n",
        "    plot_confusion_matrix(classifier.log_reg, classifier.devX, classifier.devY, ax=ax, xticks_rotation=\"vertical\", values_format=\"d\")\n",
        "    plt.show()\n",
        "\n",
        "print_confusion(big_classifier)"
      ]
    },
    {
      "cell_type": "markdown",
      "source": [
        "Next, let us look at the top coefficient weights for each class to understand which features are being considered the most heavily in determining the label. The one feature that appears to be performing as intended is the contain_toxic_word feature, which is a binary label that indicates whether a message contains a toxic word from the Orthrus Lexicon's Toxic Dictionary, since the feature has a high weight for toxic labels and a slighly smaller but still significant weight for unclear labels. Another success in regards to the features is that we were hoping to capture toxic phrases like \"u suck\" or \"f**k you\", which appeared to work based on the feature coefficients. However, for the other features used like word sense and the word stems, the feature weights seem to fairly random and doesn't provide much insight on how the model is classifying messages; they were not accurate in reflecting label boundaries. "
      ],
      "metadata": {
        "id": "rzv57F8nCv8D"
      }
    },
    {
      "cell_type": "code",
      "execution_count": null,
      "metadata": {
        "id": "IAyGuXIi9pqe",
        "colab": {
          "base_uri": "https://localhost:8080/"
        },
        "outputId": "b273c47d-a89e-4e90-940a-bb3748f60cae"
      },
      "outputs": [
        {
          "output_type": "stream",
          "name": "stdout",
          "text": [
            "N\t0.578\tkennen\n",
            "N\t0.578\tkennen carry\n",
            "N\t0.576\twtf\n",
            "N\t0.500\t!\n",
            "N\t0.469\tlmfao\n",
            "N\t0.467\tpogger\n",
            "N\t0.463\t@\n",
            "N\t0.360\tomegalul\n",
            "N\t0.334\tSynset('carry.n.01')\n",
            "N\t0.325\tholi\n",
            "N\t0.325\tSynset('holy.a.01')\n",
            "N\t0.325\tSynset('holy_place.n.01')\n",
            "N\t0.308\tjesu\n",
            "N\t0.308\tJesus fuck\n",
            "N\t0.308\tSynset('jesus.n.01')\n",
            "N\t0.307\tU\n",
            "N\t0.307\tLOVE U\n",
            "N\t0.303\tit\n",
            "N\t0.289\tninja\n",
            "N\t0.289\tSynset('ninja.n.02')\n",
            "N\t0.289\tSynset('ninja.n.01')\n",
            "N\t0.274\tSynset('information_technology.n.01')\n",
            "N\t0.241\tSynset('hello.n.01')\n",
            "N\t0.230\tthat\n",
            "N\t0.226\tholy fuck\n",
            "\n",
            "T\t3.424\tpussyyyy\n",
            "T\t1.130\tmidget\n",
            "T\t1.130\tSynset('bantam.s.01')\n",
            "T\t1.111\tSynset('dwarf.n.01')\n",
            "T\t0.917\tcontains_toxic_word\n",
            "T\t0.745\tyousif\n",
            "T\t0.745\tYOU YOUSIF\n",
            "T\t0.745\tFUCK YOU\n",
            "T\t0.717\tyou\n",
            "T\t0.702\tsuc\n",
            "T\t0.702\tu suc\n",
            "T\t0.669\tfranc\n",
            "T\t0.669\tgtfo\n",
            "T\t0.669\tFrance 😡\n",
            "T\t0.669\tgtfo France\n",
            "T\t0.669\t😡 gtfo\n",
            "T\t0.669\tSynset('france.n.02')\n",
            "T\t0.669\tSynset('france.n.01')\n",
            "T\t0.662\tshe\n",
            "T\t0.647\t😡\n",
            "T\t0.575\tu\n",
            "T\t0.557\tSynset('u.n.03')\n",
            "T\t0.557\tSynset('uranium.n.01')\n",
            "T\t0.557\tSynset('uracil.n.01')\n",
            "T\t0.456\tgettin\n",
            "\n",
            "U\t3.130\treeeeeee\n",
            "U\t3.001\treeeeeeeeeeeeeeeeeeeeeeeeeeeeeeeeeee\n",
            "U\t1.535\tpeni\n",
            "U\t1.535\tSynset('penis.n.01')\n",
            "U\t0.852\tmori\n",
            "U\t0.852\troodevil\n",
            "U\t0.852\tMORI HER\n",
            "U\t0.852\trooDevil MORI\n",
            "U\t0.834\ther\n",
            "U\t0.673\tnipplesssss\n",
            "U\t0.673\tno nipplesssss\n",
            "U\t0.673\tSynset('nipple.n.02')\n",
            "U\t0.673\tSynset('nipple.n.01')\n",
            "U\t0.655\ttransgenderprid\n",
            "U\t0.655\tda fuk\n",
            "U\t0.655\tTransgenderPride da\n",
            "U\t0.653\tda\n",
            "U\t0.631\tfuk\n",
            "U\t0.625\tcontains_toxic_word\n",
            "U\t0.573\tFUCK LOVE\n",
            "U\t0.568\tSynset('district_attorney.n.01')\n",
            "U\t0.534\t.\n",
            "U\t0.444\tvohiyo\n",
            "U\t0.444\tweeb\n",
            "U\t0.444\tIN VoHiYo\n",
            "\n"
          ]
        }
      ],
      "source": [
        "big_classifier.printWeights(n=25)"
      ]
    },
    {
      "cell_type": "markdown",
      "metadata": {
        "id": "e80DUsSXu7h9"
      },
      "source": [
        "Last, let's look at the individual data points that are most mistaken. It seems like the model picked up on messages containing words written in all caps. It tended to label this either U or T even when the true label was N. I think the most important information to glean from this is the toxic messages that the model tagged as N because those affect viewers more than false positives. We see that stereotypes (\"this music is for men\") are not picked up on (at least sometimes) which makes sense: replacing the word \"men\" with something like \"this music is for everyone\" makes it a non-toxic sentence. Additionally, we can even think of how in this case the vector representation of \"men\" is similar to \"everyone\" because of phrases like man-kind or man-made, to name a few. \n",
        "Further, some additional work could be done to improve the word sense or vector representations for domain specific words such as \"cheater\". This has a greatly negative connotation on Twitch, perhaps even moreso than outside of Twitch. We see that the model missed the toxic message \"sup cheater\" perhaps in part because of this."
      ]
    },
    {
      "cell_type": "code",
      "execution_count": null,
      "metadata": {
        "id": "I4uTzwV99pqe"
      },
      "outputs": [],
      "source": [
        "def analyze(classifier):\n",
        "    \n",
        "    probs=classifier.log_reg.predict_proba(classifier.devX)\n",
        "    predicts=classifier.log_reg.predict(classifier.devX)\n",
        "\n",
        "    classes={}\n",
        "    for idx, lab in enumerate(classifier.log_reg.classes_):\n",
        "        classes[lab]=idx\n",
        "\n",
        "    mistakes={}\n",
        "    for i in range(len(probs)):\n",
        "        if predicts[i] != classifier.devY[i]:\n",
        "            predicted_lab_idx=classes[predicts[i]]\n",
        "            mistakes[i]=probs[i][predicted_lab_idx]\n",
        "\n",
        "    frame=[]\n",
        "    sorted_x = sorted(mistakes.items(), key=operator.itemgetter(1), reverse=True)\n",
        "    for k, v in sorted_x:\n",
        "        idd=classifier.devOrig[k][0]\n",
        "        text=classifier.devOrig[k][2]\n",
        "        frame.append([idd, v, classifier.devY[k], predicts[k], text])\n",
        "\n",
        "    df=pd.DataFrame(frame, columns=[\"id\", \"P(predicted class confidence)\", \"Human label\", \"Prediction\", \"Text\"])\n",
        "\n",
        "    with option_context('display.max_colwidth', 400):\n",
        "        display(df.head(n=20))\n"
      ]
    },
    {
      "cell_type": "code",
      "execution_count": null,
      "metadata": {
        "id": "UXmRhSuzxaJi",
        "colab": {
          "base_uri": "https://localhost:8080/",
          "height": 755
        },
        "outputId": "d4fc5d2b-04eb-4e8f-dd0f-4deaaed6856c"
      },
      "outputs": [
        {
          "output_type": "display_data",
          "data": {
            "text/plain": [
              "         id  P(predicted class confidence) Human label Prediction  \\\n",
              "0    510768                       0.998814           T          N   \n",
              "1    549890                       0.991426           T          N   \n",
              "2    559274                       0.986125           T          N   \n",
              "3    119965                       0.973192           U          N   \n",
              "4    869100                       0.949460           T          N   \n",
              "5    248792                       0.911284           N          T   \n",
              "6    664946                       0.889183           N          U   \n",
              "7   1795902                       0.869442           U          N   \n",
              "8    143421                       0.829204           T          N   \n",
              "9    128761                       0.794677           U          N   \n",
              "10  1316412                       0.792708           N          T   \n",
              "11   769432                       0.785832           N          T   \n",
              "12   250689                       0.763470           U          N   \n",
              "13  1445124                       0.723863           U          N   \n",
              "14    58288                       0.640111           N          T   \n",
              "15   227941                       0.633772           N          T   \n",
              "16    29858                       0.578324           U          N   \n",
              "17  2913989                       0.570202           N          U   \n",
              "18   320335                       0.559311           U          T   \n",
              "19  3134489                       0.550527           N          U   \n",
              "\n",
              "                                                                                                     Text  \n",
              "0                    @iwilldominate why do you think an excuse after every death will justify you dying\\n  \n",
              "1                                                                           @norangeee haha shut up lol\\n  \n",
              "2                                                                            Hi cheater @highdistortion\\n  \n",
              "3                                                                       Yeah most of us know better dom\\n  \n",
              "4                                                                                        Sup young buck\\n  \n",
              "5                                                                                 @ChaseShaco luvv u bb\\n  \n",
              "6                                                                           HAMLINZ CARRY mthRee mthRee\\n  \n",
              "7                                                             when nightbot is more famous than you are\\n  \n",
              "8                                                                                 this music is for men\\n  \n",
              "9                                                                       people just dont want the truth\\n  \n",
              "10                                                                     this game look like porn rooDerp\\n  \n",
              "11                                                                                      The more u onow\\n  \n",
              "12                                                @NotSeyfert It's hard to open HS and copy every carD?\\n  \n",
              "13                                                                                                leave\\n  \n",
              "14                 Hashinhashin popping off with his history rants. What can you educate us with IWD???\\n  \n",
              "15                                                                                      ARE U KEEDIN ME\\n  \n",
              "16                                                 they just run in for nothing and all die at the end?\\n  \n",
              "17  YOU ARE NOT READY moon2H YOU ARE NOT READY moon2H YOU ARE NOT READY moon2H YOU ARE NOT READY moon2H\\n  \n",
              "18                                                            HD is clappinh kids left right and centre\\n  \n",
              "19                                                                                  BRAIN POWER POGGERS\\n  "
            ],
            "text/html": [
              "\n",
              "  <div id=\"df-16c986c7-4949-4707-b693-c04650094612\">\n",
              "    <div class=\"colab-df-container\">\n",
              "      <div>\n",
              "<style scoped>\n",
              "    .dataframe tbody tr th:only-of-type {\n",
              "        vertical-align: middle;\n",
              "    }\n",
              "\n",
              "    .dataframe tbody tr th {\n",
              "        vertical-align: top;\n",
              "    }\n",
              "\n",
              "    .dataframe thead th {\n",
              "        text-align: right;\n",
              "    }\n",
              "</style>\n",
              "<table border=\"1\" class=\"dataframe\">\n",
              "  <thead>\n",
              "    <tr style=\"text-align: right;\">\n",
              "      <th></th>\n",
              "      <th>id</th>\n",
              "      <th>P(predicted class confidence)</th>\n",
              "      <th>Human label</th>\n",
              "      <th>Prediction</th>\n",
              "      <th>Text</th>\n",
              "    </tr>\n",
              "  </thead>\n",
              "  <tbody>\n",
              "    <tr>\n",
              "      <th>0</th>\n",
              "      <td>510768</td>\n",
              "      <td>0.998814</td>\n",
              "      <td>T</td>\n",
              "      <td>N</td>\n",
              "      <td>@iwilldominate why do you think an excuse after every death will justify you dying\\n</td>\n",
              "    </tr>\n",
              "    <tr>\n",
              "      <th>1</th>\n",
              "      <td>549890</td>\n",
              "      <td>0.991426</td>\n",
              "      <td>T</td>\n",
              "      <td>N</td>\n",
              "      <td>@norangeee haha shut up lol\\n</td>\n",
              "    </tr>\n",
              "    <tr>\n",
              "      <th>2</th>\n",
              "      <td>559274</td>\n",
              "      <td>0.986125</td>\n",
              "      <td>T</td>\n",
              "      <td>N</td>\n",
              "      <td>Hi cheater @highdistortion\\n</td>\n",
              "    </tr>\n",
              "    <tr>\n",
              "      <th>3</th>\n",
              "      <td>119965</td>\n",
              "      <td>0.973192</td>\n",
              "      <td>U</td>\n",
              "      <td>N</td>\n",
              "      <td>Yeah most of us know better dom\\n</td>\n",
              "    </tr>\n",
              "    <tr>\n",
              "      <th>4</th>\n",
              "      <td>869100</td>\n",
              "      <td>0.949460</td>\n",
              "      <td>T</td>\n",
              "      <td>N</td>\n",
              "      <td>Sup young buck\\n</td>\n",
              "    </tr>\n",
              "    <tr>\n",
              "      <th>5</th>\n",
              "      <td>248792</td>\n",
              "      <td>0.911284</td>\n",
              "      <td>N</td>\n",
              "      <td>T</td>\n",
              "      <td>@ChaseShaco luvv u bb\\n</td>\n",
              "    </tr>\n",
              "    <tr>\n",
              "      <th>6</th>\n",
              "      <td>664946</td>\n",
              "      <td>0.889183</td>\n",
              "      <td>N</td>\n",
              "      <td>U</td>\n",
              "      <td>HAMLINZ CARRY mthRee mthRee\\n</td>\n",
              "    </tr>\n",
              "    <tr>\n",
              "      <th>7</th>\n",
              "      <td>1795902</td>\n",
              "      <td>0.869442</td>\n",
              "      <td>U</td>\n",
              "      <td>N</td>\n",
              "      <td>when nightbot is more famous than you are\\n</td>\n",
              "    </tr>\n",
              "    <tr>\n",
              "      <th>8</th>\n",
              "      <td>143421</td>\n",
              "      <td>0.829204</td>\n",
              "      <td>T</td>\n",
              "      <td>N</td>\n",
              "      <td>this music is for men\\n</td>\n",
              "    </tr>\n",
              "    <tr>\n",
              "      <th>9</th>\n",
              "      <td>128761</td>\n",
              "      <td>0.794677</td>\n",
              "      <td>U</td>\n",
              "      <td>N</td>\n",
              "      <td>people just dont want the truth\\n</td>\n",
              "    </tr>\n",
              "    <tr>\n",
              "      <th>10</th>\n",
              "      <td>1316412</td>\n",
              "      <td>0.792708</td>\n",
              "      <td>N</td>\n",
              "      <td>T</td>\n",
              "      <td>this game look like porn rooDerp\\n</td>\n",
              "    </tr>\n",
              "    <tr>\n",
              "      <th>11</th>\n",
              "      <td>769432</td>\n",
              "      <td>0.785832</td>\n",
              "      <td>N</td>\n",
              "      <td>T</td>\n",
              "      <td>The more u onow\\n</td>\n",
              "    </tr>\n",
              "    <tr>\n",
              "      <th>12</th>\n",
              "      <td>250689</td>\n",
              "      <td>0.763470</td>\n",
              "      <td>U</td>\n",
              "      <td>N</td>\n",
              "      <td>@NotSeyfert It's hard to open HS and copy every carD?\\n</td>\n",
              "    </tr>\n",
              "    <tr>\n",
              "      <th>13</th>\n",
              "      <td>1445124</td>\n",
              "      <td>0.723863</td>\n",
              "      <td>U</td>\n",
              "      <td>N</td>\n",
              "      <td>leave\\n</td>\n",
              "    </tr>\n",
              "    <tr>\n",
              "      <th>14</th>\n",
              "      <td>58288</td>\n",
              "      <td>0.640111</td>\n",
              "      <td>N</td>\n",
              "      <td>T</td>\n",
              "      <td>Hashinhashin popping off with his history rants. What can you educate us with IWD???\\n</td>\n",
              "    </tr>\n",
              "    <tr>\n",
              "      <th>15</th>\n",
              "      <td>227941</td>\n",
              "      <td>0.633772</td>\n",
              "      <td>N</td>\n",
              "      <td>T</td>\n",
              "      <td>ARE U KEEDIN ME\\n</td>\n",
              "    </tr>\n",
              "    <tr>\n",
              "      <th>16</th>\n",
              "      <td>29858</td>\n",
              "      <td>0.578324</td>\n",
              "      <td>U</td>\n",
              "      <td>N</td>\n",
              "      <td>they just run in for nothing and all die at the end?\\n</td>\n",
              "    </tr>\n",
              "    <tr>\n",
              "      <th>17</th>\n",
              "      <td>2913989</td>\n",
              "      <td>0.570202</td>\n",
              "      <td>N</td>\n",
              "      <td>U</td>\n",
              "      <td>YOU ARE NOT READY moon2H YOU ARE NOT READY moon2H YOU ARE NOT READY moon2H YOU ARE NOT READY moon2H\\n</td>\n",
              "    </tr>\n",
              "    <tr>\n",
              "      <th>18</th>\n",
              "      <td>320335</td>\n",
              "      <td>0.559311</td>\n",
              "      <td>U</td>\n",
              "      <td>T</td>\n",
              "      <td>HD is clappinh kids left right and centre\\n</td>\n",
              "    </tr>\n",
              "    <tr>\n",
              "      <th>19</th>\n",
              "      <td>3134489</td>\n",
              "      <td>0.550527</td>\n",
              "      <td>N</td>\n",
              "      <td>U</td>\n",
              "      <td>BRAIN POWER POGGERS\\n</td>\n",
              "    </tr>\n",
              "  </tbody>\n",
              "</table>\n",
              "</div>\n",
              "      <button class=\"colab-df-convert\" onclick=\"convertToInteractive('df-16c986c7-4949-4707-b693-c04650094612')\"\n",
              "              title=\"Convert this dataframe to an interactive table.\"\n",
              "              style=\"display:none;\">\n",
              "        \n",
              "  <svg xmlns=\"http://www.w3.org/2000/svg\" height=\"24px\"viewBox=\"0 0 24 24\"\n",
              "       width=\"24px\">\n",
              "    <path d=\"M0 0h24v24H0V0z\" fill=\"none\"/>\n",
              "    <path d=\"M18.56 5.44l.94 2.06.94-2.06 2.06-.94-2.06-.94-.94-2.06-.94 2.06-2.06.94zm-11 1L8.5 8.5l.94-2.06 2.06-.94-2.06-.94L8.5 2.5l-.94 2.06-2.06.94zm10 10l.94 2.06.94-2.06 2.06-.94-2.06-.94-.94-2.06-.94 2.06-2.06.94z\"/><path d=\"M17.41 7.96l-1.37-1.37c-.4-.4-.92-.59-1.43-.59-.52 0-1.04.2-1.43.59L10.3 9.45l-7.72 7.72c-.78.78-.78 2.05 0 2.83L4 21.41c.39.39.9.59 1.41.59.51 0 1.02-.2 1.41-.59l7.78-7.78 2.81-2.81c.8-.78.8-2.07 0-2.86zM5.41 20L4 18.59l7.72-7.72 1.47 1.35L5.41 20z\"/>\n",
              "  </svg>\n",
              "      </button>\n",
              "      \n",
              "  <style>\n",
              "    .colab-df-container {\n",
              "      display:flex;\n",
              "      flex-wrap:wrap;\n",
              "      gap: 12px;\n",
              "    }\n",
              "\n",
              "    .colab-df-convert {\n",
              "      background-color: #E8F0FE;\n",
              "      border: none;\n",
              "      border-radius: 50%;\n",
              "      cursor: pointer;\n",
              "      display: none;\n",
              "      fill: #1967D2;\n",
              "      height: 32px;\n",
              "      padding: 0 0 0 0;\n",
              "      width: 32px;\n",
              "    }\n",
              "\n",
              "    .colab-df-convert:hover {\n",
              "      background-color: #E2EBFA;\n",
              "      box-shadow: 0px 1px 2px rgba(60, 64, 67, 0.3), 0px 1px 3px 1px rgba(60, 64, 67, 0.15);\n",
              "      fill: #174EA6;\n",
              "    }\n",
              "\n",
              "    [theme=dark] .colab-df-convert {\n",
              "      background-color: #3B4455;\n",
              "      fill: #D2E3FC;\n",
              "    }\n",
              "\n",
              "    [theme=dark] .colab-df-convert:hover {\n",
              "      background-color: #434B5C;\n",
              "      box-shadow: 0px 1px 3px 1px rgba(0, 0, 0, 0.15);\n",
              "      filter: drop-shadow(0px 1px 2px rgba(0, 0, 0, 0.3));\n",
              "      fill: #FFFFFF;\n",
              "    }\n",
              "  </style>\n",
              "\n",
              "      <script>\n",
              "        const buttonEl =\n",
              "          document.querySelector('#df-16c986c7-4949-4707-b693-c04650094612 button.colab-df-convert');\n",
              "        buttonEl.style.display =\n",
              "          google.colab.kernel.accessAllowed ? 'block' : 'none';\n",
              "\n",
              "        async function convertToInteractive(key) {\n",
              "          const element = document.querySelector('#df-16c986c7-4949-4707-b693-c04650094612');\n",
              "          const dataTable =\n",
              "            await google.colab.kernel.invokeFunction('convertToInteractive',\n",
              "                                                     [key], {});\n",
              "          if (!dataTable) return;\n",
              "\n",
              "          const docLinkHtml = 'Like what you see? Visit the ' +\n",
              "            '<a target=\"_blank\" href=https://colab.research.google.com/notebooks/data_table.ipynb>data table notebook</a>'\n",
              "            + ' to learn more about interactive tables.';\n",
              "          element.innerHTML = '';\n",
              "          dataTable['output_type'] = 'display_data';\n",
              "          await google.colab.output.renderOutput(dataTable, element);\n",
              "          const docLink = document.createElement('div');\n",
              "          docLink.innerHTML = docLinkHtml;\n",
              "          element.appendChild(docLink);\n",
              "        }\n",
              "      </script>\n",
              "    </div>\n",
              "  </div>\n",
              "  "
            ]
          },
          "metadata": {}
        }
      ],
      "source": [
        "analyze(big_classifier)"
      ]
    }
  ],
  "metadata": {
    "colab": {
      "collapsed_sections": [],
      "name": "Twitch Classifier v2",
      "provenance": [],
      "include_colab_link": true
    },
    "kernelspec": {
      "display_name": "Python 3 (ipykernel)",
      "language": "python",
      "name": "python3"
    },
    "language_info": {
      "codemirror_mode": {
        "name": "ipython",
        "version": 3
      },
      "file_extension": ".py",
      "mimetype": "text/x-python",
      "name": "python",
      "nbconvert_exporter": "python",
      "pygments_lexer": "ipython3",
      "version": "3.8.3"
    }
  },
  "nbformat": 4,
  "nbformat_minor": 0
}